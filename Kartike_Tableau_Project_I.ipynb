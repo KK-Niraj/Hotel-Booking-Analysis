{
  "nbformat": 4,
  "nbformat_minor": 0,
  "metadata": {
    "colab": {
      "provenance": [],
      "include_colab_link": true
    },
    "kernelspec": {
      "name": "python3",
      "display_name": "Python 3"
    },
    "language_info": {
      "name": "python"
    }
  },
  "cells": [
    {
      "cell_type": "markdown",
      "metadata": {
        "id": "view-in-github",
        "colab_type": "text"
      },
      "source": [
        "<a href=\"https://colab.research.google.com/github/KK-Niraj/Hotel-Booking-Analysis/blob/main/Kartike_Tableau_Project_I.ipynb\" target=\"_parent\"><img src=\"https://colab.research.google.com/assets/colab-badge.svg\" alt=\"Open In Colab\"/></a>"
      ]
    },
    {
      "cell_type": "markdown",
      "source": [
        "# ***Students have to submit the dashboard link of their EDA capstone project 1 on Tableau.***\n",
        "---"
      ],
      "metadata": {
        "id": "Q76rNdYZn0zg"
      }
    },
    {
      "cell_type": "markdown",
      "source": [
        "# ***Materials and resources***\n",
        "---\n",
        "\n",
        "\n",
        "\n",
        "\n",
        "\n",
        "\n"
      ],
      "metadata": {
        "id": "YPErsEN7oHAr"
      }
    },
    {
      "cell_type": "markdown",
      "source": [
        "**Recordings:**\n",
        "\n",
        "https://youtu.be/i6-TPBd7OkE\n",
        "\n",
        "\n",
        "\n",
        "https://grow.almabetter.com/data-science/learn/full-stack-data-science/tableau-i/Video\n",
        "\n",
        "https://grow.almabetter.com/data-science/learn/full-stack-data-science/tableau-ii/Video"
      ],
      "metadata": {
        "id": "VX7WDs2kqNYk"
      }
    },
    {
      "cell_type": "markdown",
      "source": [
        "**Materials:**\n",
        "\n",
        "https://public.tableau.com/app/resources/learn\n",
        "\n",
        "**Resources - > Download Tableau Public from here.**\n",
        "\n",
        "https://www.tableau.com/products/public/download"
      ],
      "metadata": {
        "id": "iweGxsk6qd34"
      }
    },
    {
      "cell_type": "markdown",
      "source": [
        "**Demo Tableau Dashboard Link - >**\n",
        "\n",
        "https://public.tableau.com/app/profile/saugata.deb/viz/saugatadeb_play_store_app_analysis/Dashboard1?publish=yes"
      ],
      "metadata": {
        "id": "jsMiyFEg7UCO"
      }
    },
    {
      "cell_type": "markdown",
      "source": [
        "## ***Note: Avoid copying from eachother, copying may lead to direct rejection. This is an individual submission.***\n"
      ],
      "metadata": {
        "id": "EOz95nNa2XKn"
      }
    },
    {
      "cell_type": "markdown",
      "source": [
        "Paste your Tableau public dashboard link here:\n",
        "https://public.tableau.com/app/profile/kartike7935/viz/Book1_16774120637170/Dashboard1"
      ],
      "metadata": {
        "id": "lHXO_jcDoWxq"
      }
    }
  ]
}